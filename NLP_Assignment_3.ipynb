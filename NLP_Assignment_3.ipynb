{
 "cells": [
  {
   "cell_type": "markdown",
   "metadata": {
    "id": "zyJ25uz0kSaw"
   },
   "source": [
    "# Assignment 3 on Natural Language Processing\n",
    "\n",
    "## Date : 30th Sept, 2020\n",
    "\n",
    "### Instructor : Prof. Sudeshna Sarkar\n",
    "\n",
    "### Teaching Assistants : Alapan Kuila, Aniruddha Roy, Anusha Potnuru, Uppada Vishnu\n",
    "\n",
    "### Name : Kanishk Singh\n",
    "\n",
    "### Roll : 17CS30018"
   ]
  },
  {
   "cell_type": "markdown",
   "metadata": {
    "id": "Ao1nhg9RknmF"
   },
   "source": [
    "The central idea of this assignment is to use Naive Bayes classifier and LSTM based classifier and compare the models by accuracy on IMDB dataset.\n",
    "\n"
   ]
  },
  {
   "cell_type": "markdown",
   "metadata": {
    "id": "ONM5Q4SCe9Mr"
   },
   "source": [
    "Please submit with outputs. "
   ]
  },
  {
   "cell_type": "code",
   "execution_count": 1,
   "metadata": {
    "id": "ElRkQElWUMjG"
   },
   "outputs": [
    {
     "name": "stderr",
     "output_type": "stream",
     "text": [
      "Using TensorFlow backend.\n"
     ]
    }
   ],
   "source": [
    "import re\n",
    "import pandas as pd\n",
    "import numpy as np\n",
    "from sklearn.preprocessing import LabelEncoder\n",
    "from sklearn.model_selection import train_test_split\n",
    "from keras.preprocessing.text import Tokenizer\n",
    "from keras.preprocessing.sequence import pad_sequences\n",
    "import keras\n",
    "from sklearn.metrics import classification_report"
   ]
  },
  {
   "cell_type": "code",
   "execution_count": 2,
   "metadata": {
    "id": "fhHRim2AUm4z"
   },
   "outputs": [
    {
     "data": {
      "text/html": [
       "<div>\n",
       "<style scoped>\n",
       "    .dataframe tbody tr th:only-of-type {\n",
       "        vertical-align: middle;\n",
       "    }\n",
       "\n",
       "    .dataframe tbody tr th {\n",
       "        vertical-align: top;\n",
       "    }\n",
       "\n",
       "    .dataframe thead th {\n",
       "        text-align: right;\n",
       "    }\n",
       "</style>\n",
       "<table border=\"1\" class=\"dataframe\">\n",
       "  <thead>\n",
       "    <tr style=\"text-align: right;\">\n",
       "      <th></th>\n",
       "      <th>review</th>\n",
       "      <th>sentiment</th>\n",
       "    </tr>\n",
       "  </thead>\n",
       "  <tbody>\n",
       "    <tr>\n",
       "      <th>0</th>\n",
       "      <td>One of the other reviewers has mentioned that ...</td>\n",
       "      <td>positive</td>\n",
       "    </tr>\n",
       "    <tr>\n",
       "      <th>1</th>\n",
       "      <td>A wonderful little production. &lt;br /&gt;&lt;br /&gt;The...</td>\n",
       "      <td>positive</td>\n",
       "    </tr>\n",
       "    <tr>\n",
       "      <th>2</th>\n",
       "      <td>I thought this was a wonderful way to spend ti...</td>\n",
       "      <td>positive</td>\n",
       "    </tr>\n",
       "    <tr>\n",
       "      <th>3</th>\n",
       "      <td>Basically there's a family where a little boy ...</td>\n",
       "      <td>negative</td>\n",
       "    </tr>\n",
       "    <tr>\n",
       "      <th>4</th>\n",
       "      <td>Petter Mattei's \"Love in the Time of Money\" is...</td>\n",
       "      <td>positive</td>\n",
       "    </tr>\n",
       "  </tbody>\n",
       "</table>\n",
       "</div>"
      ],
      "text/plain": [
       "                                              review sentiment\n",
       "0  One of the other reviewers has mentioned that ...  positive\n",
       "1  A wonderful little production. <br /><br />The...  positive\n",
       "2  I thought this was a wonderful way to spend ti...  positive\n",
       "3  Basically there's a family where a little boy ...  negative\n",
       "4  Petter Mattei's \"Love in the Time of Money\" is...  positive"
      ]
     },
     "execution_count": 2,
     "metadata": {},
     "output_type": "execute_result"
    }
   ],
   "source": [
    "#Load the IMDB dataset. You can load it using pandas as dataframe\n",
    "import os\n",
    "path = os.path.abspath('IMDB-Dataset.csv')  #Make sure you have uploaded the datafile.\n",
    "df = pd.DataFrame()\n",
    "df = pd.read_csv(path)\n",
    "df.head()"
   ]
  },
  {
   "cell_type": "markdown",
   "metadata": {
    "id": "lK_Hn2f6VMP7"
   },
   "source": [
    "# Preprocessing\n",
    "PrePrecessing that needs to be done on lower cased corpus\n",
    "\n",
    "1. Remove html tags\n",
    "2. Remove URLS\n",
    "3. Remove non alphanumeric character\n",
    "4. Remove Stopwords\n",
    "5. Perform stemming and lemmatization\n",
    "\n",
    "You can use regex from re. "
   ]
  },
  {
   "cell_type": "code",
   "execution_count": 3,
   "metadata": {},
   "outputs": [
    {
     "name": "stderr",
     "output_type": "stream",
     "text": [
      "[nltk_data] Downloading package stopwords to\n",
      "[nltk_data]     /home/kanishk/nltk_data...\n",
      "[nltk_data]   Package stopwords is already up-to-date!\n",
      "[nltk_data] Downloading package wordnet to /home/kanishk/nltk_data...\n",
      "[nltk_data]   Package wordnet is already up-to-date!\n"
     ]
    }
   ],
   "source": [
    "import nltk\n",
    "\n",
    "nltk.download('stopwords')\n",
    "from nltk.corpus import stopwords\n",
    "from nltk.tokenize import word_tokenize \n",
    "stopword = set(stopwords.words('english'))\n",
    "\n",
    "from nltk.stem import WordNetLemmatizer\n",
    "nltk.download('wordnet')\n",
    "lemmatizer = WordNetLemmatizer()\n",
    "\n",
    "\n",
    "from nltk.stem import PorterStemmer\n",
    "ps = PorterStemmer()"
   ]
  },
  {
   "cell_type": "code",
   "execution_count": 4,
   "metadata": {
    "id": "5B5lHZPsVOXv"
   },
   "outputs": [],
   "source": [
    "def remove_html_tags(text):\n",
    "    TAG_RE = re.compile(r'<[^>]+>')\n",
    "    return TAG_RE.sub('', text)\n",
    "\n",
    "def remove_URLS(text):\n",
    "    text = re.sub(r'^https?:\\/\\/.*[\\r\\n]*', '', text, flags=re.MULTILINE)\n",
    "    return text\n",
    "\n",
    "def remove_stopwords(text):\n",
    "    word_tokens = word_tokenize(text)\n",
    "    filtered_sentence = [w for w in word_tokens if not w in stopword]\n",
    "    sent = \" \".join(filtered_sentence)\n",
    "    return sent\n",
    "\n",
    "def remove_alphanumeric(text):\n",
    "    text = re.sub(r'[^a-zA-Z]', \" \", text)\n",
    "    return text\n",
    "\n",
    "def lemmatize_and_stemm(text):\n",
    "    word_tokens = word_tokenize(text)\n",
    "    sent = [lemmatizer.lemmatize(w,\"v\") for w in word_tokens]\n",
    "    result = \" \".join(sent)\n",
    "    return result\n",
    "\n",
    "def remove_punct(data=None):\n",
    "    punctuations = '''!()-[]{};:'\"\\,”<>.“/?@#$%^&*_~'''\n",
    "    for x in data.lower(): \n",
    "        if x in punctuations: \n",
    "            data = data.replace(x, \"\")\n",
    "    return data\n",
    "\n",
    "def text_preprocess(text):\n",
    "    text = remove_html_tags(text)\n",
    "    text = remove_URLS(text)\n",
    "    text = remove_punct(text)\n",
    "    text = remove_stopwords(text)\n",
    "    text = remove_alphanumeric(text)\n",
    "    text = lemmatize_and_stemm(text)\n",
    "    return text\n",
    "    "
   ]
  },
  {
   "cell_type": "code",
   "execution_count": 5,
   "metadata": {},
   "outputs": [
    {
     "data": {
      "text/html": [
       "<div>\n",
       "<style scoped>\n",
       "    .dataframe tbody tr th:only-of-type {\n",
       "        vertical-align: middle;\n",
       "    }\n",
       "\n",
       "    .dataframe tbody tr th {\n",
       "        vertical-align: top;\n",
       "    }\n",
       "\n",
       "    .dataframe thead th {\n",
       "        text-align: right;\n",
       "    }\n",
       "</style>\n",
       "<table border=\"1\" class=\"dataframe\">\n",
       "  <thead>\n",
       "    <tr style=\"text-align: right;\">\n",
       "      <th></th>\n",
       "      <th>review</th>\n",
       "      <th>sentiment</th>\n",
       "    </tr>\n",
       "  </thead>\n",
       "  <tbody>\n",
       "    <tr>\n",
       "      <th>0</th>\n",
       "      <td>One reviewers mention watch Oz episode youll h...</td>\n",
       "      <td>positive</td>\n",
       "    </tr>\n",
       "    <tr>\n",
       "      <th>1</th>\n",
       "      <td>A wonderful little production The film techniq...</td>\n",
       "      <td>positive</td>\n",
       "    </tr>\n",
       "    <tr>\n",
       "      <th>2</th>\n",
       "      <td>I think wonderful way spend time hot summer we...</td>\n",
       "      <td>positive</td>\n",
       "    </tr>\n",
       "    <tr>\n",
       "      <th>3</th>\n",
       "      <td>Basically theres family little boy Jake think ...</td>\n",
       "      <td>negative</td>\n",
       "    </tr>\n",
       "    <tr>\n",
       "      <th>4</th>\n",
       "      <td>Petter Matteis Love Time Money visually stun f...</td>\n",
       "      <td>positive</td>\n",
       "    </tr>\n",
       "  </tbody>\n",
       "</table>\n",
       "</div>"
      ],
      "text/plain": [
       "                                              review sentiment\n",
       "0  One reviewers mention watch Oz episode youll h...  positive\n",
       "1  A wonderful little production The film techniq...  positive\n",
       "2  I think wonderful way spend time hot summer we...  positive\n",
       "3  Basically theres family little boy Jake think ...  negative\n",
       "4  Petter Matteis Love Time Money visually stun f...  positive"
      ]
     },
     "execution_count": 5,
     "metadata": {},
     "output_type": "execute_result"
    }
   ],
   "source": [
    "for index, row in df.iterrows():\n",
    "    df.loc[index] = [text_preprocess(row[0]),row[1]]\n",
    "df.head()"
   ]
  },
  {
   "cell_type": "code",
   "execution_count": 6,
   "metadata": {
    "id": "DyaSkfcvYGXk"
   },
   "outputs": [
    {
     "name": "stdout",
     "output_type": "stream",
     "text": [
      "Average length of sentence =  128.5395  words.\n",
      "Total number of examples with positive sentiment =  25000  and with negative sentiment =  25000\n"
     ]
    }
   ],
   "source": [
    "# Print Statistics of Data like avg length of sentence , proposition of data w.r.t class labels\n",
    "sent_count = 0\n",
    "word_count = 0\n",
    "pos_class = 0\n",
    "neg_class = 0\n",
    "for index, row in df.iterrows():\n",
    "    word_tokens = word_tokenize(row[0])\n",
    "    word_count  = word_count + len(word_tokens)\n",
    "    sent_count += 1\n",
    "    if row[1]=='positive':\n",
    "        pos_class += 1\n",
    "    else:\n",
    "        neg_class += 1\n",
    "\n",
    "print(\"Average length of sentence = \" ,word_count/sent_count,\" words.\")\n",
    "print(\"Total number of examples with positive sentiment = \",pos_class,\" and with negative sentiment = \",neg_class)"
   ]
  },
  {
   "cell_type": "markdown",
   "metadata": {
    "id": "_FkJ-e2pUwun"
   },
   "source": [
    "# Naive Bayes classifier"
   ]
  },
  {
   "cell_type": "code",
   "execution_count": 7,
   "metadata": {
    "id": "eVq-mN28U_J4"
   },
   "outputs": [],
   "source": [
    "# get reviews column from df\n",
    "reviews = df[\"review\"].tolist()\n",
    "\n",
    "# get labels column from df\n",
    "labels = df[\"sentiment\"].tolist()"
   ]
  },
  {
   "cell_type": "code",
   "execution_count": 10,
   "metadata": {
    "id": "Ljo5NquhXTXr"
   },
   "outputs": [],
   "source": [
    "# Use label encoder to encode labels. Convert to 0/1\n",
    "encoder = LabelEncoder()\n",
    "encoded_labels = encoder.fit_transform(labels)\n",
    "\n",
    "# print(enc.classes_)"
   ]
  },
  {
   "cell_type": "code",
   "execution_count": 11,
   "metadata": {
    "id": "wzG-C_EVWWET"
   },
   "outputs": [],
   "source": [
    "train_sentences, test_sentences, train_labels, test_labels = train_test_split(reviews, encoded_labels, test_size=0.2,stratify=encoded_labels)\n",
    "# Split the data into train and test (80% - 20%). \n",
    "# Use stratify in train_test_split so that both train and test have similar ratio of positive and negative samples.\n",
    "\n",
    "# train_sentences, test_sentences, train_labels, test_labels"
   ]
  },
  {
   "cell_type": "markdown",
   "metadata": {
    "id": "Bz1YdsSkiWCX"
   },
   "source": [
    "Here there are two approaches possible for building vocabulary for the naive Bayes.\n",
    "1. Take the whole data (train + test) to build the vocab. In this way while testing there is no word which will be out of vocabulary.\n",
    "2. Take the train data to build vocab. In this case, some words from the test set may not be in vocab and hence one needs to perform smoothing so that one the probability term is not zero.\n",
    " \n",
    "You are supposed to go by the 2nd approach.\n",
    " \n",
    "Also building vocab by taking all words in the train set is memory intensive, hence you are required to build vocab by choosing the top 2000 - 3000 frequent words in the training corpus.\n",
    "\n",
    "> $ P(x_i | w_j) = \\frac{ N_{x_i,w_j}\\, +\\, \\alpha }{ N_{w_j}\\, +\\, \\alpha*d} $\n",
    "\n",
    "\n",
    "$N_{x_i,w_j}$ : Number of times feature $x_i$ appears in samples of class $w_j$\n",
    "\n",
    "$N_{w_j}$ : Total count of features in class $w_j$\n",
    "\n",
    "$\\alpha$ : Parameter for additive smoothing. Here consider $\\alpha$ = 1\n",
    "\n",
    "$d$ : Dimentionality of the feature vector  $x = [x_1,x_2,...,x_d]$. In our case its the vocab size.\n",
    "\n",
    "\n",
    "\n",
    "\n"
   ]
  },
  {
   "cell_type": "code",
   "execution_count": 12,
   "metadata": {
    "id": "1cllNfGmUr77"
   },
   "outputs": [],
   "source": [
    "from sklearn.feature_extraction.text import CountVectorizer\n",
    "# Use Count vectorizer to get frequency of the words\n",
    "'''\n",
    "max_features parameter : If not None, build a vocabulary that only consider the top max_features ordered by term frequency across the corpus.\n",
    "vec = CountVectorizer(max_features = 3000)\n",
    "X = vec.fit_transform(Sentence_list)\n",
    "'''\n",
    "\n",
    "train_pos = []\n",
    "train_neg = []\n",
    "\n",
    "for i in range(len(train_sentences)):\n",
    "    if train_labels[i]==1:\n",
    "        train_pos.append(train_sentences[i])\n",
    "    else:\n",
    "        train_neg.append(train_sentences[i])\n",
    "\n",
    "##VOCABULARY FOR POSITIVE CLASS\n",
    "cv_pos = CountVectorizer(max_features = 3000)   \n",
    "cv_pos_fit=cv_pos.fit_transform(train_pos)    \n",
    "word_list_pos = cv_pos.get_feature_names();    \n",
    "count_list_pos = cv_pos_fit.toarray().sum(axis=0)   \n",
    "pos_dict = dict(zip(word_list_pos,count_list_pos))\n",
    "\n",
    "##VOCABULARY FOR NEGATIVE CLASS\n",
    "cv_neg = CountVectorizer(max_features = 3000)   \n",
    "cv_neg_fit=cv_neg.fit_transform(train_neg)    \n",
    "word_list_neg = cv_neg.get_feature_names();    \n",
    "count_list_neg = cv_neg_fit.toarray().sum(axis=0)   \n",
    "neg_dict = dict(zip(word_list_neg,count_list_neg))"
   ]
  },
  {
   "cell_type": "code",
   "execution_count": 13,
   "metadata": {},
   "outputs": [
    {
     "name": "stdout",
     "output_type": "stream",
     "text": [
      "1972639   1988468\n"
     ]
    }
   ],
   "source": [
    "pos_dict_total = count_list_pos.sum(axis = 0)\n",
    "neg_dict_total = count_list_neg.sum(axis = 0)\n",
    "print(pos_dict_total,\" \",neg_dict_total)"
   ]
  },
  {
   "cell_type": "code",
   "execution_count": 16,
   "metadata": {
    "id": "qzRvPjWaWUnm"
   },
   "outputs": [],
   "source": [
    "# Use laplace smoothing for words in test set not present in vocab of train set\n",
    "def prob(word,class_dict,total):\n",
    "    num = 0\n",
    "    if word in class_dict.keys():\n",
    "        num = class_dict[word] + 1\n",
    "    else:\n",
    "        num = 1\n",
    "    dem = total + len(class_dict)\n",
    "    return num,dem"
   ]
  },
  {
   "cell_type": "code",
   "execution_count": 17,
   "metadata": {
    "id": "iE7pxWIYW1z0"
   },
   "outputs": [],
   "source": [
    "# Build the model. Don't use the model from sklearn\n",
    "import math\n",
    "def predict(sent):\n",
    "    sent = word_tokenize(sent)\n",
    "    pos_num = 0\n",
    "    pos_dem = 0\n",
    "    neg_num = 0\n",
    "    neg_dem = 0\n",
    "    for word in sent:\n",
    "        num,dem  = prob(word,pos_dict,pos_dict_total)\n",
    "        pos_num += math.log(num)\n",
    "        pos_dem += math.log(dem)\n",
    "        \n",
    "        num,dem  = prob(word,neg_dict,neg_dict_total)\n",
    "        neg_num += math.log(num)\n",
    "        neg_dem += math.log(dem)\n",
    "    \n",
    "    if pos_num-pos_dem>neg_num-neg_dem:\n",
    "        return(1)\n",
    "    else:\n",
    "        return(0)\n",
    "        \n"
   ]
  },
  {
   "cell_type": "code",
   "execution_count": 18,
   "metadata": {
    "id": "AtQSl1zvW4DD"
   },
   "outputs": [
    {
     "name": "stdout",
     "output_type": "stream",
     "text": [
      "Accuracy for naive bayes =  81.41000000000001  classifiying ( 8141 / 10000 )examples.\n"
     ]
    }
   ],
   "source": [
    "# Test the model on test set and report Accuracy\n",
    "def accuracy(test_sentences,test_labels):\n",
    "    count = 0\n",
    "    for index in range(len(test_sentences)):\n",
    "        sent = test_sentences[index]\n",
    "        trgt = test_labels[index]\n",
    "        pred = predict(sent)\n",
    "        if pred==trgt:\n",
    "            count += 1\n",
    "    acc = count/len(test_labels)\n",
    "    acc *= 100\n",
    "    return count,len(test_labels),acc\n",
    "\n",
    "correct,total, acc = accuracy(test_sentences,test_labels)\n",
    "print(\"Accuracy for naive bayes = \",acc, \" classifiying (\",correct,\"/\",total,\")examples.\")\n"
   ]
  },
  {
   "cell_type": "markdown",
   "metadata": {
    "id": "WlNql0acU7sa"
   },
   "source": [
    "# *LSTM* based Classifier\n",
    "\n",
    "Use the above train and test splits."
   ]
  },
  {
   "cell_type": "code",
   "execution_count": 19,
   "metadata": {
    "id": "SkqnvbUOXoN0"
   },
   "outputs": [],
   "source": [
    "# Hyperparameters of the model\n",
    "vocab_size = 3000# choose based on statistics\n",
    "oov_tok = '<OOK>'\n",
    "embedding_dim = 100\n",
    "max_length = 130# choose based on statistics, for example 150 to 200\n",
    "padding_type='post'\n",
    "trunc_type='post'"
   ]
  },
  {
   "cell_type": "code",
   "execution_count": 20,
   "metadata": {
    "id": "UeycEg9nZAOF"
   },
   "outputs": [],
   "source": [
    "#train_sentences, test_sentences, train_labels, test_labels = train_test_split(reviews, encoded_labels, test_size=0.2,stratify=encoded_labels)\n",
    "\n",
    "# tokenize sentences\n",
    "tokenizer = Tokenizer(num_words = vocab_size, oov_token=oov_tok)\n",
    "tokenizer.fit_on_texts(train_sentences)\n",
    "word_index = tokenizer.word_index\n",
    "\n",
    "# convert train dataset to sequence and pad sequences\n",
    "train_sequences = tokenizer.texts_to_sequences(train_sentences)\n",
    "train_padded = pad_sequences(train_sequences, padding='post', maxlen=max_length)\n",
    "\n",
    "# convert Test dataset to sequence and pad sequences\n",
    "test_sequences = tokenizer.texts_to_sequences(test_sentences)\n",
    "test_padded = pad_sequences(test_sequences, padding='post', maxlen=max_length)"
   ]
  },
  {
   "cell_type": "code",
   "execution_count": 21,
   "metadata": {
    "id": "Mtw3w895ZP39"
   },
   "outputs": [
    {
     "name": "stdout",
     "output_type": "stream",
     "text": [
      "Model: \"sequential_1\"\n",
      "_________________________________________________________________\n",
      "Layer (type)                 Output Shape              Param #   \n",
      "=================================================================\n",
      "embedding_1 (Embedding)      (None, 130, 100)          300000    \n",
      "_________________________________________________________________\n",
      "bidirectional_1 (Bidirection (None, 128)               84480     \n",
      "_________________________________________________________________\n",
      "dense_1 (Dense)              (None, 24)                3096      \n",
      "_________________________________________________________________\n",
      "dense_2 (Dense)              (None, 1)                 25        \n",
      "=================================================================\n",
      "Total params: 387,601\n",
      "Trainable params: 387,601\n",
      "Non-trainable params: 0\n",
      "_________________________________________________________________\n"
     ]
    }
   ],
   "source": [
    "# model initialization\n",
    "model = keras.Sequential([\n",
    "    keras.layers.Embedding(vocab_size, embedding_dim, input_length=max_length),\n",
    "    keras.layers.Bidirectional(keras.layers.LSTM(64)),\n",
    "    keras.layers.Dense(24, activation='relu'),\n",
    "    keras.layers.Dense(1, activation='sigmoid')\n",
    "])\n",
    "\n",
    "# compile model\n",
    "model.compile(loss='binary_crossentropy',\n",
    "              optimizer='adam',\n",
    "              metrics=['accuracy'])\n",
    "\n",
    "# model summary\n",
    "model.summary()"
   ]
  },
  {
   "cell_type": "code",
   "execution_count": 22,
   "metadata": {
    "id": "skmaDJMnZTzc"
   },
   "outputs": [
    {
     "name": "stderr",
     "output_type": "stream",
     "text": [
      "/home/kanishk/miniconda3/lib/python3.7/site-packages/tensorflow_core/python/framework/indexed_slices.py:433: UserWarning: Converting sparse IndexedSlices to a dense Tensor of unknown shape. This may consume a large amount of memory.\n",
      "  \"Converting sparse IndexedSlices to a dense Tensor of unknown shape. \"\n"
     ]
    },
    {
     "name": "stdout",
     "output_type": "stream",
     "text": [
      "Train on 36000 samples, validate on 4000 samples\n",
      "Epoch 1/5\n",
      "36000/36000 [==============================] - 118s 3ms/step - loss: 0.4004 - accuracy: 0.8211 - val_loss: 0.3022 - val_accuracy: 0.8758\n",
      "Epoch 2/5\n",
      "36000/36000 [==============================] - 113s 3ms/step - loss: 0.2952 - accuracy: 0.8785 - val_loss: 0.3023 - val_accuracy: 0.8730\n",
      "Epoch 3/5\n",
      "36000/36000 [==============================] - 113s 3ms/step - loss: 0.2579 - accuracy: 0.8958 - val_loss: 0.3216 - val_accuracy: 0.8660\n",
      "Epoch 4/5\n",
      "36000/36000 [==============================] - 113s 3ms/step - loss: 0.2207 - accuracy: 0.9135 - val_loss: 0.3595 - val_accuracy: 0.8665\n",
      "Epoch 5/5\n",
      "36000/36000 [==============================] - 113s 3ms/step - loss: 0.1897 - accuracy: 0.9263 - val_loss: 0.3511 - val_accuracy: 0.8625\n"
     ]
    }
   ],
   "source": [
    "num_epochs = 5\n",
    "history = model.fit(train_padded, train_labels, \n",
    "                    epochs=num_epochs, verbose=1, \n",
    "                    validation_split=0.1)"
   ]
  },
  {
   "cell_type": "code",
   "execution_count": 23,
   "metadata": {
    "id": "TjEhWEr5Zq7M"
   },
   "outputs": [
    {
     "name": "stdout",
     "output_type": "stream",
     "text": [
      "              precision    recall  f1-score   support\n",
      "\n",
      "    negative       0.86      0.86      0.86      5000\n",
      "    positive       0.86      0.86      0.86      5000\n",
      "\n",
      "    accuracy                           0.86     10000\n",
      "   macro avg       0.86      0.86      0.86     10000\n",
      "weighted avg       0.86      0.86      0.86     10000\n",
      "\n"
     ]
    }
   ],
   "source": [
    "# Calculate accuracy on Test data\n",
    "'''\n",
    "prediction = model.predict(test_padded)\n",
    "\n",
    "'''\n",
    "\n",
    "# Get probabilities\n",
    "prediction = model.predict(test_padded)\n",
    "\n",
    "# Get labels based on probability 1 if p>= 0.5 else 0\n",
    "test_preds = [p>=0.5 for p in prediction]\n",
    "\n",
    "# Accuracy : one can use classification_report from sklearn\n",
    "target_names = ['negative', 'positive']\n",
    "print(classification_report(test_labels, test_preds, target_names=target_names))"
   ]
  },
  {
   "cell_type": "markdown",
   "metadata": {
    "id": "TIICV-ySOYL0"
   },
   "source": [
    "## Get predictions for random examples"
   ]
  },
  {
   "cell_type": "code",
   "execution_count": 24,
   "metadata": {
    "id": "m2RmfNL3OYL0"
   },
   "outputs": [
    {
     "name": "stdout",
     "output_type": "stream",
     "text": [
      "[[0.7647391 ]\n",
      " [0.10442615]\n",
      " [0.05545776]]\n",
      "The sentiment predicted is positive for the review = The movie was very touching and heart whelming\n",
      "The sentiment predicted is negative for the review = I have never seen a terrible movie like this\n",
      "The sentiment predicted is negative for the review = the movie plot is terrible but it had good acting\n"
     ]
    }
   ],
   "source": [
    "# reviews on which we need to predict\n",
    "sentence = [\"The movie was very touching and heart whelming\", \n",
    "            \"I have never seen a terrible movie like this\", \n",
    "            \"the movie plot is terrible but it had good acting\"]\n",
    "\n",
    "# convert to a sequence\n",
    "sequences = tokenizer.texts_to_sequences(sentence)\n",
    "\n",
    "# pad the sequence\n",
    "padded = pad_sequences(sequences, padding='post', maxlen=max_length) \n",
    "\n",
    "# Get probabilities\n",
    "print(model.predict(padded))\n",
    "preds = [p>=0.5 for p in model.predict(padded)]\n",
    "\n",
    "# Get labels based on probability 1 if p>= 0.5 else 0\n",
    "for i in range(len(preds)):\n",
    "    if preds[i]==True:\n",
    "        print(\"The sentiment predicted is positive for the review = \"+sentence[i])\n",
    "    else:\n",
    "        print(\"The sentiment predicted is negative for the review = \"+sentence[i])\n",
    "\n"
   ]
  }
 ],
 "metadata": {
  "colab": {
   "collapsed_sections": [],
   "name": "NLP Assignment -3",
   "provenance": []
  },
  "kernelspec": {
   "display_name": "Python 2",
   "language": "python",
   "name": "python2"
  },
  "language_info": {
   "codemirror_mode": {
    "name": "ipython",
    "version": 2
   },
   "file_extension": ".py",
   "mimetype": "text/x-python",
   "name": "python",
   "nbconvert_exporter": "python",
   "pygments_lexer": "ipython2",
   "version": "2.7.12"
  }
 },
 "nbformat": 4,
 "nbformat_minor": 1
}
